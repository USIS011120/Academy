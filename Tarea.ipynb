{
  "nbformat": 4,
  "nbformat_minor": 0,
  "metadata": {
    "colab": {
      "name": "Tarea.ipynb",
      "provenance": [],
      "authorship_tag": "ABX9TyOG9yBf7iCbx6JUsGlwFBq6",
      "include_colab_link": true
    },
    "kernelspec": {
      "display_name": "Python 3",
      "name": "python3"
    },
    "language_info": {
      "name": "python"
    }
  },
  "cells": [
    {
      "cell_type": "markdown",
      "metadata": {
        "id": "view-in-github",
        "colab_type": "text"
      },
      "source": [
        "<a href=\"https://colab.research.google.com/github/USIS011120/Academy/blob/master/Tarea.ipynb\" target=\"_parent\"><img src=\"https://colab.research.google.com/assets/colab-badge.svg\" alt=\"Open In Colab\"/></a>"
      ]
    },
    {
      "cell_type": "code",
      "metadata": {
        "id": "avuBeE8M4nK-"
      },
      "source": [
        "TAREA\n",
        "1.Convertir de Celsius de Fahrenheit \n",
        "2.Calcular la edad de una persona.\n",
        "3.Obtener la nota final de ciclo"
      ],
      "execution_count": null,
      "outputs": []
    },
    {
      "cell_type": "code",
      "metadata": {
        "id": "JRodm5wq4oSm"
      },
      "source": [
        "Convertir de Celsius de Fahrenheit "
      ],
      "execution_count": null,
      "outputs": []
    },
    {
      "cell_type": "code",
      "metadata": {
        "id": "YnQK_40z44xu"
      },
      "source": [
        "def convertirCf(c):\n",
        "  f= (c *9/5)+ 32 \n",
        "  return f\n",
        "\n",
        "c = int(input(\"C: \"))\n",
        "print(\"c: \", str(c), \" a Fahrenheit.: \", str( convertirCf(c) ))\n"
      ],
      "execution_count": null,
      "outputs": []
    },
    {
      "cell_type": "code",
      "metadata": {
        "id": "RXM1WVnJ47vN"
      },
      "source": [
        "2.Calcular la edad de una persona."
      ],
      "execution_count": null,
      "outputs": []
    },
    {
      "cell_type": "code",
      "metadata": {
        "id": "cZJXwm865H1G"
      },
      "source": [
        "from datetime import date # se importa \n",
        " \n",
        "ao=int(input(\"Ingrese su año de naciemiento en número: \"))# Ingreso de año\n",
        "mes=int(input(\"Ingrese su mes de naciemiento en número: \"))#mes\n",
        "dia=int(input(\"Ingrese su dia de naciemiento: \"))#día\n",
        "\n",
        "aoActual=date.today().year # se obtiene año actual con la funcion que se importo \n",
        "mesActual=date.today().month\n",
        "diaActual=date.today().day\n",
        "\n",
        "edad=aoActual - ao  #restamos para saber cuantos años se tiene \n",
        "\n",
        "if mes > mesActual: \n",
        "  if dia > diaActual:\n",
        "      edad= edad -1\n",
        "      print(\"Tu edad es: \",edad)\n",
        "else: \n",
        "   print(\"Tu edad es: \",edad)\n",
        "\n",
        "if mes > mesActual: \n",
        "  if dia < diaActual:\n",
        "    edad= edad -1\n",
        "    print(\"Tu edad es: \",edad)    "
      ],
      "execution_count": null,
      "outputs": []
    },
    {
      "cell_type": "code",
      "metadata": {
        "id": "O692wuVe_JSx"
      },
      "source": [
        "3.Obtenerla nota final de ciclo"
      ],
      "execution_count": null,
      "outputs": []
    },
    {
      "cell_type": "code",
      "metadata": {
        "colab": {
          "base_uri": "https://localhost:8080/"
        },
        "id": "PDTahFCEuO7h",
        "outputId": "b4f7ed13-a656-4736-9f65-5b4fafb17cc5"
      },
      "source": [
        "lab1C1= float(input(\"Ingrese la nota del laboratorio 1 del primer computo: \"))\n",
        "lab2C1= float(input(\"Ingrese la nota del laboratorio 2 del primer computo: \"))\n",
        "examen1= float(input(\"Ingrese la nota de examen del primer computo: \"))\n",
        "\n",
        "cmpt1= lab1C1*0.30+0.30*lab2C1+0.40*examen1\n",
        "\n",
        "print(\"Su nota del primer computo es: \",cmpt1)\n",
        "\n",
        "lab1C2= float(input(\"Ingrese la nota del laboratorio 1 del segundo computo: \"))\n",
        "lab2C2= float(input(\"Ingrese la nota del laboratorio 2 del segundo computo: \"))\n",
        "examen2= float(input(\"Ingrese la nota del examen del segundo computo: \"))\n",
        "\n",
        "cmpt2= lab1C2*0.30+0.30*lab2C2+0.40*examen2\n",
        "\n",
        "print(\"Su nota del primer computo es: \",cmpt2)\n",
        "\n",
        "lab1C3= float(input(\"Ingrese la nota del laboratorio 1 del tercer computo: \"))\n",
        "lab2C3= float(input(\"Ingrese la nota del laboratorio 2 del tercer computo: \"))\n",
        "examen3= float(input(\"Ingrese la nota del examen del tercer computo: \"))\n",
        "\n",
        "cmpt3= lab1C3*0.30+0.30*lab2C3+0.40*examen3\n",
        "print(\"Su nota del primer computo es: \",cmpt3)\n",
        "\n",
        "\n",
        "notafinalC= (cmpt1+cmpt2+cmpt3)/3\n",
        "\n",
        "print (\"La nota final de ciclo es: \",notafinalC)\n",
        "1"
      ],
      "execution_count": null,
      "outputs": [
        {
          "name": "stdout",
          "output_type": "stream",
          "text": [
            "Ingrese la nota del laboratorio 1 del primer computo: 10\n",
            "Ingrese la nota del laboratorio 2 del primer computo: 9\n",
            "Ingrese la nota de examen del primer computo: 5\n",
            "Su nota del primer computo es:  7.699999999999999\n",
            "Ingrese la nota del laboratorio 1 del segundo computo: 10\n",
            "Ingrese la nota del laboratorio 2 del segundo computo: 9\n",
            "Ingrese la nota del examen del segundo computo: 9\n",
            "Su nota del primer computo es:  9.299999999999999\n",
            "Ingrese la nota del laboratorio 1 del tercer computo: 10\n",
            "Ingrese la nota del laboratorio 2 del tercer computo: 9\n",
            "Ingrese la nota del examen del tercer computo: 10\n",
            "Su nota del primer computo es:  9.7\n",
            "a nota final de ciclo es:  8.9\n"
          ]
        }
      ]
    },
    {
      "cell_type": "markdown",
      "metadata": {
        "id": "pHrW_5GtI50q"
      },
      "source": [
        "**Tarea:**\n",
        "\n",
        "**1.** Convertir de Celsius de Fahrenheit usando lambda\n",
        "**2.**Calcular la edad de una persona. usando lambda\n",
        "**3.** Obtener la nota final de ciclo usando lambda y build-in(map, filter, reduce)"
      ]
    },
    {
      "cell_type": "markdown",
      "metadata": {
        "id": "6ZDGDQJn2VME"
      },
      "source": [
        "# **1. Convertir de Celsius de Fahrenheit usando lambda**"
      ]
    },
    {
      "cell_type": "code",
      "metadata": {
        "colab": {
          "base_uri": "https://localhost:8080/"
        },
        "id": "8Oango7BJmlG",
        "outputId": "05a9a129-f6b6-4dbd-8666-8d26096bdaec"
      },
      "source": [
        "print(\"De celsius a Fahrenheit\")\n",
        "fa = lambda cels: (cels *9/5)+ 32 \n",
        "cels = float(input(\"°C: \"))\n",
        "print(\"La conversion de:\",cels,\"°C \"\" es: \",fa(cels),\"°F\")\n"
      ],
      "execution_count": null,
      "outputs": [
        {
          "name": "stdout",
          "output_type": "stream",
          "text": [
            "De celsius a Fahrenheit\n",
            "°C: 77\n",
            "La conversion de: 77.0 °C  es:  170.6 °F\n"
          ]
        }
      ]
    },
    {
      "cell_type": "markdown",
      "metadata": {
        "id": "YDw5e-fl2dNg"
      },
      "source": [
        "# **2.Calcular la edad de una persona. usando lambda**"
      ]
    },
    {
      "cell_type": "code",
      "metadata": {
        "colab": {
          "base_uri": "https://localhost:8080/"
        },
        "id": "cFe1a6KQQlL3",
        "outputId": "84dc2202-c443-4736-be94-b8737faee6bc"
      },
      "source": [
        "from datetime import datetime\n",
        "from dateutil.relativedelta import relativedelta\n",
        "\n",
        "edad = lambda birthday: (relativedelta(datetime.now(), birthday)).years\n",
        "print(\"Ingresa tu fecha de nacimiento\")\n",
        "birthday = datetime.strptime(input('Día: ')+'/'+input('Mes: ')+'/'+input('Año: '), \"%d/%m/%Y\")\n",
        "splitbirth = str(birthday).split(sep='-')\n",
        "\n",
        "if (int(splitbirth[1][1]) == datetime.now().month and int(splitbirth[2].split()[0]) == datetime.now().day):\n",
        "    print(f\"Feliz cumpleaños número {edad(birthday)}\")\n",
        "else:\n",
        "    print(f\"Actualmente tienes {edad(birthday)} años\")\n"
      ],
      "execution_count": null,
      "outputs": [
        {
          "name": "stdout",
          "output_type": "stream",
          "text": [
            "Ingresa tu fecha de nacimiento\n",
            "Día: 07\n",
            "Mes: 7\n",
            "Año: 2017\n",
            "Actualmente tienes 4 años\n"
          ]
        }
      ]
    },
    {
      "cell_type": "markdown",
      "metadata": {
        "id": "S8iAbvZC2rl5"
      },
      "source": [
        "# **3. Obtener la nota final de ciclo usando lambda y build-in(map, filter, reduce)**"
      ]
    },
    {
      "cell_type": "code",
      "metadata": {
        "colab": {
          "base_uri": "https://localhost:8080/"
        },
        "id": "d_OuBUhZxdXZ",
        "outputId": "caae66b7-2e7f-4637-95ed-f367fa61cb1e"
      },
      "source": [
        "computo = [1, 2, 3]\n",
        "procomp = []\n",
        "from functools import reduce\n",
        "\n",
        "promediocomp = lambda lab1, lab2, par: lab1*0.30+lab2*0.30+par*0.4\n",
        "\n",
        "\n",
        "for i in computo:\n",
        "  print(\"Computo \" + str(i))\n",
        "  lab1 = float(input(\"Ingresa la nota de tu laboratorio 1 \"))\n",
        "  lab2 = float(input(\"Ingresa la nota de tu laboratorio 2 \"))\n",
        "  par = float(input(\"Ingresa la nota de tu parcial \"))\n",
        "\n",
        "  promedio = promediocomp(lab1, lab2, par)\n",
        "  procomp.append(promedio)\n",
        "  print(\"Tu promedio para el computo \"+ str(i) + \" es \"  + str(promedio))\n",
        "  print(\"\")\n",
        "\n",
        "resp = reduce(lambda x,y : x+y ,procomp)\n",
        "print(\"La nota de ciclo es \" + str(resp/3))\n"
      ],
      "execution_count": null,
      "outputs": [
        {
          "output_type": "stream",
          "name": "stdout",
          "text": [
            "Computo 1\n",
            "Ingresa la nota de tu laboratorio 1 7\n",
            "Ingresa la nota de tu laboratorio 2 7\n",
            "Ingresa la nota de tu parcial 7\n",
            "Tu promedio para el computo 1 es 7.0\n",
            "\n",
            "Computo 2\n",
            "Ingresa la nota de tu laboratorio 1 7\n",
            "Ingresa la nota de tu laboratorio 2 8\n",
            "Ingresa la nota de tu parcial 7\n",
            "Tu promedio para el computo 2 es 7.300000000000001\n",
            "\n",
            "Computo 3\n",
            "Ingresa la nota de tu laboratorio 1 8\n",
            "Ingresa la nota de tu laboratorio 2 7\n",
            "Ingresa la nota de tu parcial 8\n",
            "Tu promedio para el computo 3 es 7.7\n",
            "\n",
            "La nota de ciclo es 7.333333333333333\n"
          ]
        }
      ]
    },
    {
      "cell_type": "markdown",
      "metadata": {
        "id": "bKo4F12nquLF"
      },
      "source": [
        "\n",
        "#**Calcular sobre el sueldo las deducciones por ley ISSS (3%), AFP(6.25%), ISR(Según tabla) e imprima el total deducciones y sueldo neto. (20%)**\n",
        "\n",
        "\n",
        "\n"
      ]
    },
    {
      "cell_type": "code",
      "metadata": {
        "colab": {
          "base_uri": "https://localhost:8080/"
        },
        "id": "6a6S6o1-rtl1",
        "outputId": "0fa7460f-3c09-425b-a55c-ec99b6bb7086"
      },
      "source": [
        "sueldo = float(input(\"Sueldo: \"))\n",
        "isss = sueldo*0.03\n",
        "afp = sueldo*0.0625\n",
        "sueldoNeto = sueldo - (isss + afp)\n",
        "\n",
        "tablaIsr = [\n",
        "            [0.01,   472.0,   0,   0    ],\n",
        "            [472.01, 895.24,  0.1, 17.67],\n",
        "            [895.25, 2038.10, 0.2, 60   ],\n",
        "            [2038.11, 99999 , 0.3, 288.57]\n",
        "]\n",
        "isr = 0\n",
        "for tramo in tablaIsr:\n",
        "  if sueldoNeto>=tramo[0] and sueldo<=tramo[1]:\n",
        "    isr = (sueldoNeto - tramo[0])*tramo[2] + tramo[3]\n",
        "sueldoNeto -= isr\n",
        "print(sueldo, \"Deducciones: \", (isss + afp + isr), \" Sueldo Neto: \", sueldoNeto)\n"
      ],
      "execution_count": null,
      "outputs": [
        {
          "name": "stdout",
          "output_type": "stream",
          "text": [
            "Sueldo: 350\n",
            "350.0 Deducciones:  32.375  Sueldo Neto:  317.625\n"
          ]
        }
      ]
    },
    {
      "cell_type": "markdown",
      "metadata": {
        "id": "CLgXWQ9HFCcH"
      },
      "source": [
        "# **Calcular el valor a pagar según el número de metros consumidos de agua potable**"
      ]
    },
    {
      "cell_type": "code",
      "metadata": {
        "colab": {
          "base_uri": "https://localhost:8080/"
        },
        "id": "mIOYFtb8F2Mm",
        "outputId": "631c58c4-e584-4567-f0ea-221f7aaedf7c"
      },
      "source": [
        "metros=int(input(\"Ingrese el número de metros consumidos: \"))\n",
        "if  metros >=1 and metros<= 18:\n",
        "  res=6\n",
        "  print(\"El valor a pagar es $ \",res)\n",
        "elif metros >18 and metros <= 28:\n",
        "  res= ((metros - 18)*0.45) + 6\n",
        "  print(\"El valor a pagar es $ \",res)\n",
        "elif metros >29:\n",
        "  res= ((metros - 28)*0.65)+ 4.5 + 6\n",
        "  print(\"El valor a pagar es $ \",res)\n",
        "else:\n",
        "  print(\"Error ,el ingreso de metros consumidos debe ser mayor o igual 1 \")\n"
      ],
      "execution_count": null,
      "outputs": [
        {
          "output_type": "stream",
          "name": "stdout",
          "text": [
            "Ingrese el número de metros consumidos: 38\n",
            "El valor a pagar es $  17.0\n"
          ]
        }
      ]
    },
    {
      "cell_type": "markdown",
      "metadata": {
        "id": "oNE3TPKPQPc0"
      },
      "source": [
        "# **DESARROLLE UNA TABLA DE MESES ACUMULADOS**"
      ]
    },
    {
      "cell_type": "code",
      "metadata": {
        "colab": {
          "base_uri": "https://localhost:8080/"
        },
        "id": "cK24N25pQU49",
        "outputId": "0469bfa9-be48-438d-ee14-94998f94f263"
      },
      "source": [
        "meses=int(input(\"Ingrese el número de meses: \"))\n",
        "acumulacion= 0.5*meses**2+ 0.5*meses\n",
        "print(\"La acumulación es: \",acumulacion)"
      ],
      "execution_count": null,
      "outputs": [
        {
          "output_type": "stream",
          "text": [
            "Ingrese el número de meses: 5\n",
            "La acumulación es:  15.0\n"
          ],
          "name": "stdout"
        }
      ]
    },
    {
      "cell_type": "markdown",
      "metadata": {
        "id": "han1-1mhxhu5"
      },
      "source": [
        "# ***Conversores***"
      ]
    },
    {
      "cell_type": "code",
      "metadata": {
        "colab": {
          "base_uri": "https://localhost:8080/"
        },
        "id": "jzD4aJcTxnOv",
        "outputId": "92ebc7cf-6ad1-4526-c307-dc62b8f28985"
      },
      "source": [
        "valores = [\n",
        "           [],\n",
        "           [0, 1, 0.85, 23.8, 35.11, 7.74, 8.75, 621.61,8.29,19.99, 771.80], #monedas\n",
        "           [0,1000000., 1000.,100., 39.37, 3.28,1.09, 1., 0.001, 0.000621,0.00054],#Longitud\n",
        "           [0, 1.0,0.453592,16.0,453592.4,453.5924,4.535924,0.000454,0.000446,0.0005,45.35924],#Masa\n",
        "           [0,1.00 ,0.125,   0.001, 0.000125, 0.000001, 0.000000125, 0.000000001, 0.000000000125,0.000000000001,0.000000000000125],#Almacenamiento\n",
        "           [0,1.0,3.6e+12,3.6e+9,3.6e+6,3600.0,60.0,0.0416667,0.00595238,0.00136986,1.1416e-5,1.1416e-5],  #Tiempo\n",
        "           [0,1.0, 0.06, 0.001, 0.000001, 0.202884, 0.067628, 0.033814, 0.004227, 0.002113, 0.001057], #Volumen  \n",
        "           [0,1,0.01,10000,0.00386102,11959.9,107639,1.55e+7,2.47105,1.4196479273,15.903307888],                                         #Area \n",
        "]\n",
        "etiquetas = [\n",
        "           [],\n",
        "           [\"1. Dolar\", \"2. Euro\", \"3. Lempira\",\"4. Cordobas\", \"5. Quetzalez\", \"6. Colon SV\", \"7. Colon CR\",\"8. Lira Turca\",\"9. Peso Mexicano\",\"10. Peso Chileno\"],\n",
        "           [\"1.Micrones\",\"2. Milimetros\",\"3. Centimetros \",\"4. Pulgadas \",\"5.Pies \",\"6. Yardas\",\"7. Metros \",\"8. Kilometros \",\"9. Milla \",\"10. Millas Nauticas\"],\n",
        "           [\"1. Libras \",\"2. Kilogramos\",\"3. Onzas \",\"4. Miligramos \",\"5. Gramos\",\"6. Hectogramos\",\"7. Toneladas Metricas\",\"8. Toneladas largas (Reino Unido) \",\"9. Toneladas Cortas(EE.UU.) \",\"10. Decagramos\"],\n",
        "           [\"1. Bits \",\"2. Bytes \",\"3. Kilobits\",\"4.Kilobytes \",\"5. Megabits\",\"6. Megabytes\",\"7. Gigabits\",\"8. Gigabytes\",\"9. Terabits\",\"10. Terabytes\"],\n",
        "           [\"1. Hora \",\"2.Nanosegundos\",\"3. Microsegundos\",\"4.Milisegundos \",\"5. Segundos \",\"6.Minutos \",\"7.Días \",\"8.Semanas \",\"9.Mes \",\"10. Decada \"],\n",
        "           [\"1.Mililitros \",\"2.Centimetros cúbicos \",\"3.Litros \",\"4.Metro cúbico \",\"5.Cucharadita (EE:UU) \",\"6.Cucharadas (EE:UU) \",\"7.Onzas líquidas \",\"8.Tazas \",\"9. Pintas\",\"10. Cuartos de galón \",],\n",
        "           [\"1.Hectaria \",\"2. Kilometro cuadrado \",\"3. Metro cuadrado \",\"4.Milla cuadrada \",\"5. Yarda cuadrada \",\"6.Pie cuadrado \",\"7. Pulgada cuadrada\",\"8. Acre \",\"9.Mazana (Nicaragua)\",\"10. Tarea \",],\n",
        "]\n",
        "def convertir(conversor, de, a, cantidad):\n",
        "  return valores[conversor][a]/valores[conversor][de] * cantidad\n",
        "\n",
        "print(\"*** MENU ***\")\n",
        "print(\"* 1. Monedas\")\n",
        "print(\"* 2. Longitud\")\n",
        "print(\"* 3. Masa\")\n",
        "print(\"* 4. Alamacenamiento\")\n",
        "print(\"* 5. Tiempo\")\n",
        "print(\"* 6. Volumen\")\n",
        "print(\"* 7. Area\")\n",
        "\n",
        "conversor = int(input(\"Conversor: \"))\n",
        "\n",
        "print( etiquetas[conversor] )\n",
        "\n",
        "de = int(input(\"DE: \"))\n",
        "a = int(input(\"A: \"))\n",
        "cantidad = float(input(\"Cant: \"))\n",
        "\n",
        "print(\"Respuesta: \", convertir(conversor, de, a, cantidad) )\n"
      ],
      "execution_count": 15,
      "outputs": [
        {
          "output_type": "stream",
          "name": "stdout",
          "text": [
            "*** MENU ***\n",
            "* 1. Monedas\n",
            "* 2. Longitud\n",
            "* 3. Masa\n",
            "* 4. Alamacenamiento\n",
            "* 5. Tiempo\n",
            "* 6. Volumen\n",
            "* 7. Area\n",
            "Conversor: 7\n",
            "['1.Hectaria ', '2. Kilometro cuadrado ', '3. Metro cuadrado ', '4.Milla cuadrada ', '5. Yarda cuadrada ', '6.Pie cuadrado ', '7. Pulgada cuadrada', '8. Acre ', '9.Mazana (Nicaragua)', '10. Tarea ']\n",
            "DE: 9\n",
            "A: 1\n",
            "Cant: 1\n",
            "Respuesta:  0.7044000000069595\n"
          ]
        }
      ]
    },
    {
      "cell_type": "markdown",
      "metadata": {
        "id": "mgdtczxIgPAy"
      },
      "source": [
        "# **Conversor Propio**"
      ]
    },
    {
      "cell_type": "code",
      "metadata": {
        "colab": {
          "base_uri": "https://localhost:8080/"
        },
        "id": "hX2pKHIogctt",
        "outputId": "90274737-73e8-4a6f-9c57-e5474589bc0b"
      },
      "source": [
        "\n",
        "print(\"***MENÚ***\")\n",
        "\n",
        "print(\"1. Cajas a Unidades\")\n",
        "print(\"2. Unidades a Cajas\")\n",
        "print(\"3. Saco a Libras\")\n",
        "print(\"4. Libras a Saco \")\n",
        "print(\"5. Fardos a Unidades\")\n",
        "print(\"6. Unidades a Fardos\")\n",
        "\n",
        "conv = int(input(\"Elija un número para realizar la conversión: \"))\n",
        "\n",
        "if conv == 1 :\n",
        "\n",
        "    C = float(input(\"Ingrese el numero de cajas \"))\n",
        "    u = C * 25\n",
        "    print(C,\"Cajas a Unidades son: \" , u)\n",
        "\n",
        "elif conv == 2 :\n",
        "  \n",
        "    U = float(input(\"Ingrese el número de Unidades: \"))\n",
        "    c = U /25\n",
        "    print(U,\"unidades a cajas son: \" , c)\n",
        "\n",
        "elif conv == 3 :\n",
        "    S = float(input(\"Ingrese el número de  Sacos: \"))\n",
        "    l = S * 50\n",
        "    print(S,\"Saco a Libras son: \" , l)\n",
        "\n",
        "elif conv == 4 :\n",
        "    L = float(input(\"Ingrese número de libras: \"))\n",
        "    s = L  / 50\n",
        "    print(L,\"Libras a Sacos son: \" , s)\n",
        "elif conv == 5 :\n",
        "    F = float(input(\"Ingrese el número de Fardos: \"))\n",
        "    uni = F * 5\n",
        "    print(F,\"Fardos a Unidades son: \" , uni)\n",
        "elif conv == 6 :\n",
        "    unidad = float(input(\"Ingrese el número de Unidades: \"))\n",
        "    f = unidad /5\n",
        "    print(unidad,\"Unidades a Fardos son: \" , f)\n",
        "else :\n",
        "    print(\"Por favor intenete con los números que se encuentran en la lista\")\n"
      ],
      "execution_count": 18,
      "outputs": [
        {
          "output_type": "stream",
          "name": "stdout",
          "text": [
            "***MENÚ***\n",
            "1. Cajas a Unidades\n",
            "2. Unidades a Cajas\n",
            "3. Saco a Libras\n",
            "4. Libras a Saco \n",
            "5. Fardos a Unidades\n",
            "6. Unidades a Fardos\n",
            "Elija un número para realizar la conversión: 3\n",
            "Ingrese el número de  Sacos: 9\n",
            "9.0 Saco a Libras son:  450.0\n"
          ]
        }
      ]
    }
  ]
}